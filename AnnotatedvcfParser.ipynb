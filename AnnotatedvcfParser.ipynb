{
 "cells": [
  {
   "cell_type": "markdown",
   "id": "6b1bba94",
   "metadata": {},
   "source": [
    "# AnnotatedvcfParser.py"
   ]
  },
  {
   "cell_type": "markdown",
   "id": "0c97df71",
   "metadata": {},
   "source": [
    "Script to parse annotated vcf files (VEP,snpEff,ANNOVAR) to a csv table "
   ]
  },
  {
   "cell_type": "markdown",
   "id": "33e9beb5",
   "metadata": {},
   "source": [
    "--------------------------------------------------------------------------------------------"
   ]
  },
  {
   "cell_type": "code",
   "execution_count": 1,
   "id": "de32a05a",
   "metadata": {},
   "outputs": [],
   "source": [
    "import AnnotatedvcfParser as vcf\n",
    "import pandas as pd\n",
    "import numpy as np"
   ]
  },
  {
   "cell_type": "markdown",
   "id": "b3ec46ef",
   "metadata": {},
   "source": [
    "--------------------------------------------------------------------------------------------"
   ]
  },
  {
   "cell_type": "markdown",
   "id": "651528cf",
   "metadata": {},
   "source": [
    "## AnnotatedvcfParser - readVCF()\n",
    "*datatype : dictionary*"
   ]
  },
  {
   "cell_type": "markdown",
   "id": "7184ffe0",
   "metadata": {},
   "source": [
    "readVCF() takes as input a vcf file and return a dictionary of lists in which the vcf is parsed.\n",
    "The INFO field is further parsed with internal functions from AnnotadevcfParser.py"
   ]
  },
  {
   "cell_type": "markdown",
   "id": "19a9b68c",
   "metadata": {},
   "source": [
    "--------------------------------------------------------------------------------------------"
   ]
  },
  {
   "cell_type": "markdown",
   "id": "72d6983a",
   "metadata": {},
   "source": [
    "We start opening the vcf file to parse"
   ]
  },
  {
   "cell_type": "code",
   "execution_count": 30,
   "id": "3c3adb60",
   "metadata": {},
   "outputs": [],
   "source": [
    "vcf_file_path = \"/home/yabili/results/08_cosmic_filter/short_T_vs_N_filtered_cosmic_filter.vcf\"\n",
    "vcf_file=open(vcf_file_path, \"r\" )"
   ]
  },
  {
   "cell_type": "code",
   "execution_count": 31,
   "id": "248777cd",
   "metadata": {},
   "outputs": [
    {
     "data": {
      "text/plain": [
       "dict"
      ]
     },
     "execution_count": 31,
     "metadata": {},
     "output_type": "execute_result"
    }
   ],
   "source": [
    "vcfFile = vcf.readVCF(vcf_file)\n",
    "type(vcfFile)"
   ]
  },
  {
   "cell_type": "markdown",
   "id": "5b8974ea",
   "metadata": {},
   "source": [
    "Let's print the Dict.keys() N.B: notice that INFO has been parsed"
   ]
  },
  {
   "cell_type": "code",
   "execution_count": 32,
   "id": "2ab4e01d",
   "metadata": {},
   "outputs": [
    {
     "name": "stdout",
     "output_type": "stream",
     "text": [
      "CHROM 35\n",
      "POS 35\n",
      "ID 35\n",
      "REF 35\n",
      "ALT 35\n",
      "QUAL 35\n",
      "FILTER 35\n",
      "INFO 35\n",
      "FORMAT 35\n",
      "NORMAL 35\n",
      "TUMOR 35\n",
      "AS_FilterStatus 35\n",
      "AS_SB_TABLE 35\n",
      "AS_UNIQ_ALT_READ_COUNT 35\n",
      "CONTQ 35\n",
      "DP 35\n",
      "ECNT 35\n",
      "GERMQ 35\n",
      "MBQ 35\n",
      "MFRL 35\n",
      "MMQ 35\n",
      "MPOS 35\n",
      "NALOD 35\n",
      "NCount 35\n",
      "NLOD 35\n",
      "OCM 35\n",
      "PON 35\n",
      "POPAF 35\n",
      "ROQ 35\n",
      "RPA 35\n",
      "RU 35\n",
      "SEQQ 35\n",
      "STR 35\n",
      "STRANDQ 35\n",
      "STRQ 35\n",
      "TLOD 35\n",
      "ANN 35\n",
      "LOF 35\n",
      "NMD 35\n",
      "CSQ 35\n",
      "ANNOVAR_DATE 35\n",
      "Func.refGene 35\n",
      "Gene.refGene 35\n",
      "GeneDetail.refGene 35\n",
      "ExonicFunc.refGene 35\n",
      "AAChange.refGene 35\n",
      "cytoBand 35\n",
      "ExAC_ALL 35\n",
      "ExAC_AFR 35\n",
      "ExAC_AMR 35\n",
      "ExAC_EAS 35\n",
      "ExAC_FIN 35\n",
      "ExAC_NFE 35\n",
      "ExAC_OTH 35\n",
      "ExAC_SAS 35\n",
      "avsnp147 35\n",
      "SIFT_score 35\n",
      "SIFT_pred 35\n",
      "Polyphen2_HDIV_score 35\n",
      "Polyphen2_HDIV_pred 35\n",
      "Polyphen2_HVAR_score 35\n",
      "Polyphen2_HVAR_pred 35\n",
      "LRT_score 35\n",
      "LRT_pred 35\n",
      "MutationTaster_score 35\n",
      "MutationTaster_pred 35\n",
      "MutationAssessor_score 35\n",
      "MutationAssessor_pred 35\n",
      "FATHMM_score 35\n",
      "FATHMM_pred 35\n",
      "PROVEAN_score 35\n",
      "PROVEAN_pred 35\n",
      "VEST3_score 35\n",
      "CADD_raw 35\n",
      "CADD_phred 35\n",
      "DANN_score 35\n",
      "fathmm-MKL_coding_score 35\n",
      "fathmm-MKL_coding_pred 35\n",
      "MetaSVM_score 35\n",
      "MetaSVM_pred 35\n",
      "MetaLR_score 35\n",
      "MetaLR_pred 35\n",
      "integrated_fitCons_score 35\n",
      "integrated_confidence_value 35\n",
      "GERP++_RS 35\n",
      "phyloP7way_vertebrate 35\n",
      "phyloP20way_mammalian 35\n",
      "phastCons7way_vertebrate 35\n",
      "phastCons20way_mammalian 35\n",
      "SiPhy_29way_logOdds 35\n",
      "cosmic70 35\n",
      "gnomAD_genome_ALL 35\n",
      "gnomAD_genome_AFR 35\n",
      "gnomAD_genome_AMR 35\n",
      "gnomAD_genome_ASJ 35\n",
      "gnomAD_genome_EAS 35\n",
      "gnomAD_genome_FIN 35\n",
      "gnomAD_genome_NFE 35\n",
      "gnomAD_genome_OTH 35\n",
      "ICGC_Id 35\n",
      "ICGC_Occurrence 35\n",
      "CLNALLELEID 35\n",
      "CLNDN 35\n",
      "CLNDISDB 35\n",
      "CLNREVSTAT 35\n",
      "CLNSIG 35\n",
      "ALLELE_END 35\n",
      "GENOMIC_ID 35\n",
      "CDS 35\n",
      "AA 35\n",
      "GENE 35\n",
      "CNT 35\n",
      "SNP 35\n",
      "STRAND 35\n",
      "HGVSP 35\n",
      "HGVSG 35\n",
      "HGVSC 35\n",
      "LEGACY_ID 35\n"
     ]
    }
   ],
   "source": [
    "for key, value in vcfFile.items() :\n",
    "    print (key, len(value))"
   ]
  },
  {
   "cell_type": "markdown",
   "id": "671c9e25",
   "metadata": {},
   "source": [
    "Let's try to print a List of values form the Dictionary"
   ]
  },
  {
   "cell_type": "code",
   "execution_count": 35,
   "id": "48a2c547",
   "metadata": {},
   "outputs": [
    {
     "name": "stdout",
     "output_type": "stream",
     "text": [
      "['.', '.', '.', 'MU70470', 'MU40745', 'MU109751', 'MU91776616', '.', '.', '.', 'MU1305116', '.', '.', '.', '.', '.', '.', '.', '.', 'MU1856183', '.', 'MU114312846', '.', '.', '.', '.', '.', '.', '.', '.', '.', 'MU131190896', 'MU591920', '.', '.']\n"
     ]
    }
   ],
   "source": [
    "print(vcfFile[\"ICGC_Id\"])"
   ]
  },
  {
   "cell_type": "markdown",
   "id": "0c1aff2b",
   "metadata": {},
   "source": [
    "--------------------------------------------------------------------------------------------"
   ]
  },
  {
   "cell_type": "markdown",
   "id": "e141cac8",
   "metadata": {},
   "source": [
    "# AnnotatedvcfParser - transcipts2ListVepSnpEff()\n",
    "*datatype : dictionary*"
   ]
  },
  {
   "cell_type": "markdown",
   "id": "2ab5504f",
   "metadata": {},
   "source": [
    "This parse the CSQ and ANN fields, adding a new key (VepCSQSplit/snpeffANNSplit) to the dictionary,\n",
    "where different transcripts are parsed to a list."
   ]
  },
  {
   "cell_type": "markdown",
   "id": "0426fc77",
   "metadata": {},
   "source": [
    "--------------------------------------------------------------------------------------------"
   ]
  },
  {
   "cell_type": "markdown",
   "id": "dbc916d2",
   "metadata": {},
   "source": [
    "**Example of ANN to snpeffANNSplit where different transcripts are parsed to a list**"
   ]
  },
  {
   "cell_type": "code",
   "execution_count": 36,
   "id": "16d69a2e",
   "metadata": {},
   "outputs": [],
   "source": [
    "vcfFileTranslisted = vcf.transcipts2ListVepSnpEff(vcfFile, \"snpeffANNSplit\")"
   ]
  },
  {
   "cell_type": "markdown",
   "id": "b2e39706",
   "metadata": {},
   "source": [
    "We can check check that the ANN field from snpEff has been transformed to a list of transcripts at snpeffANNSplit"
   ]
  },
  {
   "cell_type": "code",
   "execution_count": 41,
   "id": "6e4a4d4c",
   "metadata": {},
   "outputs": [
    {
     "name": "stdout",
     "output_type": "stream",
     "text": [
      "<class 'str'>\n",
      "The string is: 1813 characters\n"
     ]
    }
   ],
   "source": [
    "#print(vcfFileTranslisted[\"ANN\"][1])\n",
    "print(type(vcfFileTranslisted[\"ANN\"][1]))\n",
    "print(\"The string is: \" + str(len(vcfFileTranslisted[\"ANN\"][1])) + \" characters\")"
   ]
  },
  {
   "cell_type": "code",
   "execution_count": 42,
   "id": "c5bf5362",
   "metadata": {},
   "outputs": [
    {
     "name": "stdout",
     "output_type": "stream",
     "text": [
      "<class 'list'>\n",
      "The list contains: 14 transcripts\n"
     ]
    }
   ],
   "source": [
    "#print(vcfFileTranslisted[\"ANN\"][1])\n",
    "print(type(vcfFileTranslisted[\"snpeffANNSplit\"][1]))\n",
    "print(\"The list contains: \" + str(len(vcfFileTranslisted[\"snpeffANNSplit\"][1])) + \" transcripts\")"
   ]
  },
  {
   "cell_type": "markdown",
   "id": "4e7b1a69",
   "metadata": {},
   "source": [
    "--------------------------------------------------------------------------------------------"
   ]
  },
  {
   "cell_type": "markdown",
   "id": "e9c41423",
   "metadata": {},
   "source": [
    "**Example of CSQ to VepCSQSplit where different transcripts are parsed to a list**"
   ]
  },
  {
   "cell_type": "code",
   "execution_count": 10,
   "id": "b548c458",
   "metadata": {},
   "outputs": [],
   "source": [
    "vcfFileTranslisted = vcf.transcipts2ListVepSnpEff(vcfFile, \"VepCSQSplit\")"
   ]
  },
  {
   "cell_type": "markdown",
   "id": "18bc83d3",
   "metadata": {},
   "source": [
    "We can check check that the CSQ field from snpEff has been transformed to a list of transcripts at VepCSQSplit"
   ]
  },
  {
   "cell_type": "code",
   "execution_count": 11,
   "id": "f9956a25",
   "metadata": {},
   "outputs": [
    {
     "name": "stdout",
     "output_type": "stream",
     "text": [
      "<class 'str'>\n",
      "The string is: 1017 characters\n"
     ]
    }
   ],
   "source": [
    "print(type(vcfFileTranslisted[\"CSQ\"][1]))\n",
    "print(\"The string is: \" + str(len(vcfFileTranslisted[\"CSQ\"][1])) + \" characters\")"
   ]
  },
  {
   "cell_type": "code",
   "execution_count": 12,
   "id": "1642f8ff",
   "metadata": {},
   "outputs": [
    {
     "name": "stdout",
     "output_type": "stream",
     "text": [
      "<class 'list'>\n",
      "The list contains: 4 transcripts\n"
     ]
    }
   ],
   "source": [
    "print(type(vcfFileTranslisted[\"VepCSQSplit\"][1]))\n",
    "print(\"The list contains: \" + str(len(vcfFileTranslisted[\"VepCSQSplit\"][1])) + \" transcripts\")"
   ]
  },
  {
   "cell_type": "markdown",
   "id": "5db9bcdb",
   "metadata": {},
   "source": [
    "--------------------------------------------------------------------------------------------"
   ]
  },
  {
   "cell_type": "markdown",
   "id": "effbada8",
   "metadata": {},
   "source": [
    "**There is the opportunity to parse both ANN/CSQ in a single step**"
   ]
  },
  {
   "cell_type": "code",
   "execution_count": 13,
   "id": "7fd9bdd9",
   "metadata": {},
   "outputs": [],
   "source": [
    "vcfFileTranslisted = vcf.transcipts2ListVepSnpEff(vcfFile, \"snpeffANNSplit,VepCSQSplit\")"
   ]
  },
  {
   "cell_type": "code",
   "execution_count": 14,
   "id": "17486959",
   "metadata": {},
   "outputs": [
    {
     "name": "stdout",
     "output_type": "stream",
     "text": [
      "CHROM 35\n",
      "POS 35\n",
      "ID 35\n",
      "REF 35\n",
      "ALT 35\n",
      "QUAL 35\n",
      "FILTER 35\n",
      "INFO 35\n",
      "FORMAT 35\n",
      "NORMAL 35\n",
      "TUMOR 35\n",
      "AS_FilterStatus 35\n",
      "AS_SB_TABLE 35\n",
      "AS_UNIQ_ALT_READ_COUNT 35\n",
      "CONTQ 35\n",
      "DP 35\n",
      "ECNT 35\n",
      "GERMQ 35\n",
      "MBQ 35\n",
      "MFRL 35\n",
      "MMQ 35\n",
      "MPOS 35\n",
      "NALOD 35\n",
      "NCount 35\n",
      "NLOD 35\n",
      "OCM 35\n",
      "PON 35\n",
      "POPAF 35\n",
      "ROQ 35\n",
      "RPA 35\n",
      "RU 35\n",
      "SEQQ 35\n",
      "STR 35\n",
      "STRANDQ 35\n",
      "STRQ 35\n",
      "TLOD 35\n",
      "ANN 35\n",
      "LOF 35\n",
      "NMD 35\n",
      "CSQ 35\n",
      "ANNOVAR_DATE 35\n",
      "Func.refGene 35\n",
      "Gene.refGene 35\n",
      "GeneDetail.refGene 35\n",
      "ExonicFunc.refGene 35\n",
      "AAChange.refGene 35\n",
      "cytoBand 35\n",
      "ExAC_ALL 35\n",
      "ExAC_AFR 35\n",
      "ExAC_AMR 35\n",
      "ExAC_EAS 35\n",
      "ExAC_FIN 35\n",
      "ExAC_NFE 35\n",
      "ExAC_OTH 35\n",
      "ExAC_SAS 35\n",
      "avsnp147 35\n",
      "SIFT_score 35\n",
      "SIFT_pred 35\n",
      "Polyphen2_HDIV_score 35\n",
      "Polyphen2_HDIV_pred 35\n",
      "Polyphen2_HVAR_score 35\n",
      "Polyphen2_HVAR_pred 35\n",
      "LRT_score 35\n",
      "LRT_pred 35\n",
      "MutationTaster_score 35\n",
      "MutationTaster_pred 35\n",
      "MutationAssessor_score 35\n",
      "MutationAssessor_pred 35\n",
      "FATHMM_score 35\n",
      "FATHMM_pred 35\n",
      "PROVEAN_score 35\n",
      "PROVEAN_pred 35\n",
      "VEST3_score 35\n",
      "CADD_raw 35\n",
      "CADD_phred 35\n",
      "DANN_score 35\n",
      "fathmm-MKL_coding_score 35\n",
      "fathmm-MKL_coding_pred 35\n",
      "MetaSVM_score 35\n",
      "MetaSVM_pred 35\n",
      "MetaLR_score 35\n",
      "MetaLR_pred 35\n",
      "integrated_fitCons_score 35\n",
      "integrated_confidence_value 35\n",
      "GERP++_RS 35\n",
      "phyloP7way_vertebrate 35\n",
      "phyloP20way_mammalian 35\n",
      "phastCons7way_vertebrate 35\n",
      "phastCons20way_mammalian 35\n",
      "SiPhy_29way_logOdds 35\n",
      "cosmic70 35\n",
      "gnomAD_genome_ALL 35\n",
      "gnomAD_genome_AFR 35\n",
      "gnomAD_genome_AMR 35\n",
      "gnomAD_genome_ASJ 35\n",
      "gnomAD_genome_EAS 35\n",
      "gnomAD_genome_FIN 35\n",
      "gnomAD_genome_NFE 35\n",
      "gnomAD_genome_OTH 35\n",
      "ICGC_Id 35\n",
      "ICGC_Occurrence 35\n",
      "CLNALLELEID 35\n",
      "CLNDN 35\n",
      "CLNDISDB 35\n",
      "CLNREVSTAT 35\n",
      "CLNSIG 35\n",
      "ALLELE_END 35\n",
      "GENOMIC_ID 35\n",
      "CDS 35\n",
      "AA 35\n",
      "GENE 35\n",
      "CNT 35\n",
      "SNP 35\n",
      "STRAND 35\n",
      "HGVSP 35\n",
      "HGVSG 35\n",
      "HGVSC 35\n",
      "LEGACY_ID 35\n",
      "snpeffANNSplit 35\n",
      "VepCSQSplit 35\n"
     ]
    }
   ],
   "source": [
    "for key, value in vcfFileTranslisted.items() :\n",
    "    print (key, len(value))"
   ]
  },
  {
   "cell_type": "markdown",
   "id": "4370c002",
   "metadata": {},
   "source": [
    "--------------------------------------------------------------------------------------------"
   ]
  },
  {
   "cell_type": "markdown",
   "id": "49990645",
   "metadata": {},
   "source": [
    "# AnnotatedvcfParser - splitransciptsVepSnpEff()\n",
    "*datatype : pandas.DataFrame*"
   ]
  },
  {
   "cell_type": "markdown",
   "id": "2a4835cf",
   "metadata": {},
   "source": [
    "This function take as input the output of transcipts2ListVepSnpEff() and separate the transcripts in different rows. It returns a pandas.DataFrame"
   ]
  },
  {
   "cell_type": "markdown",
   "id": "57be8b68",
   "metadata": {},
   "source": [
    "--------------------------------------------------------------------------------------------"
   ]
  },
  {
   "cell_type": "markdown",
   "id": "0956b999",
   "metadata": {},
   "source": [
    "**Splitting ANN to snpeffANNSplit list of transcripts**"
   ]
  },
  {
   "cell_type": "code",
   "execution_count": 25,
   "id": "61a7b1ca",
   "metadata": {},
   "outputs": [
    {
     "name": "stdout",
     "output_type": "stream",
     "text": [
      "After splitting each transcript to a different row, the number of rows is : 311\n"
     ]
    }
   ],
   "source": [
    "vcfFileTransplitted = vcf.splitransciptsVepSnpEff(vcfFileTranslisted, \"snpeffANNSplit\")\n",
    "print(\"After splitting each transcript to a different row, the number of rows is : \" + str(len(vcfFileTransplitted)))"
   ]
  },
  {
   "cell_type": "markdown",
   "id": "65129583",
   "metadata": {},
   "source": [
    "--------------------------------------------------------------------------------------------"
   ]
  },
  {
   "cell_type": "markdown",
   "id": "73ddc75e",
   "metadata": {},
   "source": [
    "**Splitting CSQ to VepCSQSplit list of transcripts**"
   ]
  },
  {
   "cell_type": "code",
   "execution_count": 26,
   "id": "013c39ae",
   "metadata": {},
   "outputs": [
    {
     "name": "stdout",
     "output_type": "stream",
     "text": [
      "After splitting each transcript to a different row, the number of rows is : 74\n"
     ]
    }
   ],
   "source": [
    "vcfFileTransplitted = vcf.splitransciptsVepSnpEff(vcfFileTranslisted, \"VepCSQSplit\")\n",
    "print(\"After splitting each transcript to a different row, the number of rows is : \" + str(len(vcfFileTransplitted)))"
   ]
  },
  {
   "cell_type": "markdown",
   "id": "994acc9c",
   "metadata": {},
   "source": [
    "--------------------------------------------------------------------------------------------"
   ]
  },
  {
   "cell_type": "markdown",
   "id": "8bc05886",
   "metadata": {},
   "source": [
    "**There is the opportunity to parse both ANN/CSQ in a single step**"
   ]
  },
  {
   "cell_type": "markdown",
   "id": "46952d34",
   "metadata": {},
   "source": [
    "*NB: Make attention parsing ANN and CSQ together can lead to a high increase of duplicates rows*"
   ]
  },
  {
   "cell_type": "code",
   "execution_count": 27,
   "id": "968b5a9f",
   "metadata": {},
   "outputs": [
    {
     "name": "stdout",
     "output_type": "stream",
     "text": [
      "After splitting each transcript to a different row, the number of rows is : 789\n"
     ]
    }
   ],
   "source": [
    "vcfFileTransplitted = vcf.splitransciptsVepSnpEff(vcfFileTranslisted, \"snpeffANNSplit,VepCSQSplit\")\n",
    "print(\"After splitting each transcript to a different row, the number of rows is : \" + str(len(vcfFileTransplitted)))"
   ]
  },
  {
   "cell_type": "markdown",
   "id": "424ab03b",
   "metadata": {},
   "source": [
    "--------------------------------------------------------------------------------------------"
   ]
  },
  {
   "cell_type": "markdown",
   "id": "03a189e1",
   "metadata": {},
   "source": [
    "# AnnotatedvcfParser - pipe2Col\n",
    "*datatype : pandas.DataFrame*"
   ]
  },
  {
   "cell_type": "markdown",
   "id": "5ba9c478",
   "metadata": {},
   "source": [
    "This function take as input the output of splitransciptsVepSnpEff() and separate **snpeffANNSplit/VepCSQSplit** into different columns based on the \"|\" internal separation. It returns a pandas.DataFrame object"
   ]
  },
  {
   "cell_type": "markdown",
   "id": "3a547fd8",
   "metadata": {},
   "source": [
    "--------------------------------------------------------------------------------------------"
   ]
  },
  {
   "cell_type": "markdown",
   "id": "30f8b79f",
   "metadata": {},
   "source": [
    "**Splitting snpeffANNSplit into different columns based on the pipe internal separation**"
   ]
  },
  {
   "cell_type": "code",
   "execution_count": 18,
   "id": "0e21cfe4",
   "metadata": {},
   "outputs": [],
   "source": [
    "vcfFileTransplittedPipe = vcf.pipe2Col(vcf_file, vcfFileTransplitted, \"snpeffANNSplit\")"
   ]
  },
  {
   "cell_type": "code",
   "execution_count": 19,
   "id": "e0a85ade",
   "metadata": {},
   "outputs": [
    {
     "name": "stdout",
     "output_type": "stream",
     "text": [
      "After splitting each internal pipe of ANN to a different column, the number of column is : \n"
     ]
    },
    {
     "data": {
      "text/plain": [
       "136"
      ]
     },
     "execution_count": 19,
     "metadata": {},
     "output_type": "execute_result"
    }
   ],
   "source": [
    "#vcfFileTransplittedPipe.info(verbose=True)\n",
    "print(\"After splitting each internal pipe of ANN to a different column, the number of column is : \")\n",
    "len(vcfFileTransplittedPipe.columns)"
   ]
  },
  {
   "cell_type": "markdown",
   "id": "5e73014c",
   "metadata": {},
   "source": [
    "--------------------------------------------------------------------------------------------"
   ]
  },
  {
   "cell_type": "markdown",
   "id": "3bd97e90",
   "metadata": {},
   "source": [
    "**Splitting VepCSQSplit into different columns based on the pipe internal separation**"
   ]
  },
  {
   "cell_type": "code",
   "execution_count": 20,
   "id": "186ced3c",
   "metadata": {},
   "outputs": [],
   "source": [
    "vcfFileTransplittedPipe = vcf.pipe2Col(vcf_file, vcfFileTransplitted, \"VepCSQSplit\")"
   ]
  },
  {
   "cell_type": "code",
   "execution_count": 21,
   "id": "cc885878",
   "metadata": {},
   "outputs": [
    {
     "name": "stdout",
     "output_type": "stream",
     "text": [
      "After splitting each internal pipe of CSQ to a different column, the number of column is : \n"
     ]
    },
    {
     "data": {
      "text/plain": [
       "188"
      ]
     },
     "execution_count": 21,
     "metadata": {},
     "output_type": "execute_result"
    }
   ],
   "source": [
    "#vcfFileTransplittedPipe.info(verbose=True)\n",
    "print(\"After splitting each internal pipe of CSQ to a different column, the number of column is : \")\n",
    "len(vcfFileTransplittedPipe.columns)"
   ]
  },
  {
   "cell_type": "markdown",
   "id": "258fb00e",
   "metadata": {},
   "source": [
    "--------------------------------------------------------------------------------------------"
   ]
  },
  {
   "cell_type": "markdown",
   "id": "4c907335",
   "metadata": {},
   "source": [
    "**There is the opportunity to parse both snpeffANNSplit/VepCSQSplit in a single step**"
   ]
  },
  {
   "cell_type": "code",
   "execution_count": 22,
   "id": "42513601",
   "metadata": {},
   "outputs": [],
   "source": [
    "vcfFileTransplittedPipe = vcf.pipe2Col(vcf_file, vcfFileTransplitted, \"snpeffANNSplit,VepCSQSplit\")"
   ]
  },
  {
   "cell_type": "code",
   "execution_count": 23,
   "id": "a049cb91",
   "metadata": {},
   "outputs": [
    {
     "name": "stdout",
     "output_type": "stream",
     "text": [
      "After splitting each internal pipe of ANN and CSQ to a different column, the number of column is : \n"
     ]
    },
    {
     "data": {
      "text/plain": [
       "204"
      ]
     },
     "execution_count": 23,
     "metadata": {},
     "output_type": "execute_result"
    }
   ],
   "source": [
    "print(\"After splitting each internal pipe of ANN and CSQ to a different column, the number of column is : \")\n",
    "len(vcfFileTransplittedPipe.columns)"
   ]
  },
  {
   "cell_type": "markdown",
   "id": "05949e98",
   "metadata": {},
   "source": [
    "These are the column:"
   ]
  },
  {
   "cell_type": "code",
   "execution_count": 28,
   "id": "5b48f739",
   "metadata": {},
   "outputs": [
    {
     "name": "stdout",
     "output_type": "stream",
     "text": [
      "<class 'pandas.core.frame.DataFrame'>\n",
      "RangeIndex: 789 entries, 0 to 788\n",
      "Data columns (total 204 columns):\n",
      " #    Column                         Dtype \n",
      "---   ------                         ----- \n",
      " 0    CHROM                          object\n",
      " 1    POS                            object\n",
      " 2    ID                             object\n",
      " 3    REF                            object\n",
      " 4    ALT                            object\n",
      " 5    QUAL                           object\n",
      " 6    FILTER                         object\n",
      " 7    INFO                           object\n",
      " 8    FORMAT                         object\n",
      " 9    NORMAL                         object\n",
      " 10   TUMOR                          object\n",
      " 11   AS_FilterStatus                object\n",
      " 12   AS_SB_TABLE                    object\n",
      " 13   AS_UNIQ_ALT_READ_COUNT         object\n",
      " 14   CONTQ                          object\n",
      " 15   DP                             object\n",
      " 16   ECNT                           object\n",
      " 17   GERMQ                          object\n",
      " 18   MBQ                            object\n",
      " 19   MFRL                           object\n",
      " 20   MMQ                            object\n",
      " 21   MPOS                           object\n",
      " 22   NALOD                          object\n",
      " 23   NCount                         object\n",
      " 24   NLOD                           object\n",
      " 25   OCM                            object\n",
      " 26   PON                            object\n",
      " 27   POPAF                          object\n",
      " 28   ROQ                            object\n",
      " 29   RPA                            object\n",
      " 30   RU                             object\n",
      " 31   SEQQ                           object\n",
      " 32   STR                            object\n",
      " 33   STRANDQ                        object\n",
      " 34   STRQ                           object\n",
      " 35   TLOD                           object\n",
      " 36   ANN                            object\n",
      " 37   LOF                            object\n",
      " 38   NMD                            object\n",
      " 39   CSQ                            object\n",
      " 40   ANNOVAR_DATE                   object\n",
      " 41   Func.refGene                   object\n",
      " 42   Gene.refGene                   object\n",
      " 43   GeneDetail.refGene             object\n",
      " 44   ExonicFunc.refGene             object\n",
      " 45   AAChange.refGene               object\n",
      " 46   cytoBand                       object\n",
      " 47   ExAC_ALL                       object\n",
      " 48   ExAC_AFR                       object\n",
      " 49   ExAC_AMR                       object\n",
      " 50   ExAC_EAS                       object\n",
      " 51   ExAC_FIN                       object\n",
      " 52   ExAC_NFE                       object\n",
      " 53   ExAC_OTH                       object\n",
      " 54   ExAC_SAS                       object\n",
      " 55   avsnp147                       object\n",
      " 56   SIFT_score                     object\n",
      " 57   SIFT_pred                      object\n",
      " 58   Polyphen2_HDIV_score           object\n",
      " 59   Polyphen2_HDIV_pred            object\n",
      " 60   Polyphen2_HVAR_score           object\n",
      " 61   Polyphen2_HVAR_pred            object\n",
      " 62   LRT_score                      object\n",
      " 63   LRT_pred                       object\n",
      " 64   MutationTaster_score           object\n",
      " 65   MutationTaster_pred            object\n",
      " 66   MutationAssessor_score         object\n",
      " 67   MutationAssessor_pred          object\n",
      " 68   FATHMM_score                   object\n",
      " 69   FATHMM_pred                    object\n",
      " 70   PROVEAN_score                  object\n",
      " 71   PROVEAN_pred                   object\n",
      " 72   VEST3_score                    object\n",
      " 73   CADD_raw                       object\n",
      " 74   CADD_phred                     object\n",
      " 75   DANN_score                     object\n",
      " 76   fathmm-MKL_coding_score        object\n",
      " 77   fathmm-MKL_coding_pred         object\n",
      " 78   MetaSVM_score                  object\n",
      " 79   MetaSVM_pred                   object\n",
      " 80   MetaLR_score                   object\n",
      " 81   MetaLR_pred                    object\n",
      " 82   integrated_fitCons_score       object\n",
      " 83   integrated_confidence_value    object\n",
      " 84   GERP++_RS                      object\n",
      " 85   phyloP7way_vertebrate          object\n",
      " 86   phyloP20way_mammalian          object\n",
      " 87   phastCons7way_vertebrate       object\n",
      " 88   phastCons20way_mammalian       object\n",
      " 89   SiPhy_29way_logOdds            object\n",
      " 90   cosmic70                       object\n",
      " 91   gnomAD_genome_ALL              object\n",
      " 92   gnomAD_genome_AFR              object\n",
      " 93   gnomAD_genome_AMR              object\n",
      " 94   gnomAD_genome_ASJ              object\n",
      " 95   gnomAD_genome_EAS              object\n",
      " 96   gnomAD_genome_FIN              object\n",
      " 97   gnomAD_genome_NFE              object\n",
      " 98   gnomAD_genome_OTH              object\n",
      " 99   ICGC_Id                        object\n",
      " 100  ICGC_Occurrence                object\n",
      " 101  CLNALLELEID                    object\n",
      " 102  CLNDN                          object\n",
      " 103  CLNDISDB                       object\n",
      " 104  CLNREVSTAT                     object\n",
      " 105  CLNSIG                         object\n",
      " 106  ALLELE_END                     object\n",
      " 107  GENOMIC_ID                     object\n",
      " 108  CDS                            object\n",
      " 109  AA                             object\n",
      " 110  GENE                           object\n",
      " 111  CNT                            object\n",
      " 112  SNP                            object\n",
      " 113  STRAND                         object\n",
      " 114  HGVSP                          object\n",
      " 115  HGVSG                          object\n",
      " 116  HGVSC                          object\n",
      " 117  LEGACY_ID                      object\n",
      " 118  snpeffANNSplit                 object\n",
      " 119  VepCSQSplit                    object\n",
      " 120   \\'Allele                      object\n",
      " 121   Annotation                    object\n",
      " 122   Annotation_Impact             object\n",
      " 123   Gene_Name                     object\n",
      " 124   Gene_ID                       object\n",
      " 125   Feature_Type                  object\n",
      " 126   Feature_ID                    object\n",
      " 127   Transcript_BioType            object\n",
      " 128   Rank                          object\n",
      " 129   HGVS.c                        object\n",
      " 130   HGVS.p                        object\n",
      " 131   cDNA.pos / cDNA.length        object\n",
      " 132   CDS.pos / CDS.length          object\n",
      " 133   AA.pos / AA.length            object\n",
      " 134   Distance                      object\n",
      " 135   ERRORS / WARNINGS / INFO\\' '  object\n",
      " 136   Allele                        object\n",
      " 137  Consequence                    object\n",
      " 138  IMPACT                         object\n",
      " 139  SYMBOL                         object\n",
      " 140  Gene                           object\n",
      " 141  Feature_type                   object\n",
      " 142  Feature                        object\n",
      " 143  BIOTYPE                        object\n",
      " 144  EXON                           object\n",
      " 145  INTRON                         object\n",
      " 146  HGVSc                          object\n",
      " 147  HGVSp                          object\n",
      " 148  cDNA_position                  object\n",
      " 149  CDS_position                   object\n",
      " 150  Protein_position               object\n",
      " 151  Amino_acids                    object\n",
      " 152  Codons                         object\n",
      " 153  Existing_variation             object\n",
      " 154  DISTANCE                       object\n",
      " 155  FLAGS                          object\n",
      " 156  VARIANT_CLASS                  object\n",
      " 157  SYMBOL_SOURCE                  object\n",
      " 158  HGNC_ID                        object\n",
      " 159  CANONICAL                      object\n",
      " 160  MANE_SELECT                    object\n",
      " 161  MANE_PLUS_CLINICAL             object\n",
      " 162  TSL                            object\n",
      " 163  APPRIS                         object\n",
      " 164  CCDS                           object\n",
      " 165  ENSP                           object\n",
      " 166  SWISSPROT                      object\n",
      " 167  TREMBL                         object\n",
      " 168  UNIPARC                        object\n",
      " 169  UNIPROT_ISOFORM                object\n",
      " 170  GENE_PHENO                     object\n",
      " 171  SIFT                           object\n",
      " 172  PolyPhen                       object\n",
      " 173  DOMAINS                        object\n",
      " 174  miRNA                          object\n",
      " 175  AF                             object\n",
      " 176  AFR_AF                         object\n",
      " 177  AMR_AF                         object\n",
      " 178  EAS_AF                         object\n",
      " 179  EUR_AF                         object\n",
      " 180  SAS_AF                         object\n",
      " 181  AA_AF                          object\n",
      " 182  EA_AF                          object\n",
      " 183  gnomAD_AF                      object\n",
      " 184  gnomAD_AFR_AF                  object\n",
      " 185  gnomAD_AMR_AF                  object\n",
      " 186  gnomAD_ASJ_AF                  object\n",
      " 187  gnomAD_EAS_AF                  object\n",
      " 188  gnomAD_FIN_AF                  object\n",
      " 189  gnomAD_NFE_AF                  object\n",
      " 190  gnomAD_OTH_AF                  object\n",
      " 191  gnomAD_SAS_AF                  object\n",
      " 192  MAX_AF                         object\n",
      " 193  MAX_AF_POPS                    object\n",
      " 194  FREQS                          object\n",
      " 195  CLIN_SIG                       object\n",
      " 196  SOMATIC                        object\n",
      " 197  PHENO                          object\n",
      " 198  PUBMED                         object\n",
      " 199  MOTIF_NAME                     object\n",
      " 200  MOTIF_POS                      object\n",
      " 201  HIGH_INF_POS                   object\n",
      " 202  MOTIF_SCORE_CHANGE             object\n",
      " 203  TRANSCRIPTION_FACTORS'         object\n",
      "dtypes: object(204)\n",
      "memory usage: 1.2+ MB\n"
     ]
    }
   ],
   "source": [
    "vcfFileTransplittedPipe.info(verbose=True)"
   ]
  },
  {
   "cell_type": "markdown",
   "id": "2d6c9803",
   "metadata": {},
   "source": [
    "--------------------------------------------------------------------------------------------"
   ]
  },
  {
   "cell_type": "markdown",
   "id": "50c1eaea",
   "metadata": {},
   "source": [
    "## Save results to a CSV file"
   ]
  },
  {
   "cell_type": "markdown",
   "id": "0d7ce68c",
   "metadata": {},
   "source": [
    "The parsed DataFrame can be then saved to a csv file\n",
    "\n",
    "**>> vcfFileTransplittedPipe.to_csv(\"/your/local/path/results/vcfparsed.csv\")**"
   ]
  }
 ],
 "metadata": {
  "kernelspec": {
   "display_name": "Python 3",
   "language": "python",
   "name": "python3"
  },
  "language_info": {
   "codemirror_mode": {
    "name": "ipython",
    "version": 3
   },
   "file_extension": ".py",
   "mimetype": "text/x-python",
   "name": "python",
   "nbconvert_exporter": "python",
   "pygments_lexer": "ipython3",
   "version": "3.9.2"
  }
 },
 "nbformat": 4,
 "nbformat_minor": 5
}
